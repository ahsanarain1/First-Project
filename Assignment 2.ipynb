{
 "cells": [
  {
   "cell_type": "code",
   "execution_count": 12,
   "metadata": {},
   "outputs": [
    {
     "name": "stdout",
     "output_type": "stream",
     "text": [
      "Enter your first subject's marks 30\n",
      "Enter your second subject's marks 23\n",
      "Enter your third subject's marks 15\n",
      "Enter your fourth subject's marks 17\n",
      "Enter your fifth subject's marks 19\n",
      "You've got 104 marks out of 500 and your grade is F with 20.8 percentage\n"
     ]
    }
   ],
   "source": [
    "\n",
    "a = int(input(\"Enter your first subject's marks \"))\n",
    "b = int(input(\"Enter your second subject's marks \"))\n",
    "c = int(input(\"Enter your third subject's marks \"))\n",
    "d = int(input(\"Enter your fourth subject's marks \"))\n",
    "e = int(input(\"Enter your fifth subject's marks \"))\n",
    "\n",
    "marks = a+b+c+d+e;\n",
    "\n",
    "grade = (marks/500)*100\n",
    "\n",
    "if grade >=90:\n",
    "    print(\"You've got \" + str(marks) + \" marks out of 500 and your grade is A+ with \" + str(grade) + \" percentage\")\n",
    "elif grade >=80 and grade <90:\n",
    "    print(\"You've got \" + str(marks) + \" marks out of 500 and your grade is A with \" + str(grade) + \" percentage\")\n",
    "elif grade >=70 and grade <80:\n",
    "    print(\"You've got \" + str(marks) + \" marks out of 500 and your grade is B with \" + str(grade) + \" percentage\")\n",
    "elif grade >=60 and grade <70:\n",
    "    print(\"You've got \" + str(marks) + \" marks out of 500 and your grade is C with \" + str(grade) + \" percentage\")\n",
    "elif grade >=50 and grade <60:\n",
    "    print(\"You've got \" + str(marks) + \" marks out of 500 and your grade is D with \" + str(grade) + \" percentage\")\n",
    "elif grade >=40 and grade <50:\n",
    "    print(\"You've got \" + str(marks) + \" marks out of 500 and your grade is E with \" + str(grade) + \" percentage\")\n",
    "else:\n",
    "    print(\"You've got \" + str(marks) + \" marks out of 500 and your grade is F with \" + str(grade) + \" percentage\")\n",
    "    \n",
    "\n",
    "   "
   ]
  },
  {
   "cell_type": "code",
   "execution_count": 13,
   "metadata": {},
   "outputs": [
    {
     "name": "stdout",
     "output_type": "stream",
     "text": [
      "Enter your number 3\n",
      "your Number is odd\n"
     ]
    }
   ],
   "source": [
    "number = int(input(\"Enter your number \"))\n",
    "\n",
    "if number % 2==0:\n",
    "    print(\"your Number is even\")\n",
    "else:\n",
    "    print(\"your Number is odd\")"
   ]
  },
  {
   "cell_type": "code",
   "execution_count": 15,
   "metadata": {},
   "outputs": [
    {
     "name": "stdout",
     "output_type": "stream",
     "text": [
      "11\n"
     ]
    }
   ],
   "source": [
    "list = [1, 11, 22, 33, 44, 55, 66, 77, 88, 99, 100 ]\n",
    "print(len(list))"
   ]
  },
  {
   "cell_type": "code",
   "execution_count": 17,
   "metadata": {},
   "outputs": [
    {
     "name": "stdout",
     "output_type": "stream",
     "text": [
      "1642\n"
     ]
    }
   ],
   "source": [
    "list = [1, 11, 22, 33, 134, 515, 662, 77, 88, 99,]\n",
    "print(sum(list))"
   ]
  },
  {
   "cell_type": "code",
   "execution_count": 18,
   "metadata": {},
   "outputs": [
    {
     "name": "stdout",
     "output_type": "stream",
     "text": [
      "662\n"
     ]
    }
   ],
   "source": [
    "list = [1, 11, 22, 33, 134, 515, 662, 77, 88, 99,]\n",
    "print(max(list))"
   ]
  },
  {
   "cell_type": "code",
   "execution_count": 20,
   "metadata": {},
   "outputs": [
    {
     "name": "stdout",
     "output_type": "stream",
     "text": [
      "1\n",
      "2\n",
      "3\n",
      "4\n"
     ]
    }
   ],
   "source": [
    "list = [1, 2, 3, 4, 5, 11, 22, 33, 134, 515, 662, 77, 88, 99,]\n",
    "for i in list:\n",
    "    if i<5:\n",
    "        print(i)"
   ]
  },
  {
   "cell_type": "code",
   "execution_count": null,
   "metadata": {},
   "outputs": [],
   "source": []
  }
 ],
 "metadata": {
  "kernelspec": {
   "display_name": "Python 3",
   "language": "python",
   "name": "python3"
  },
  "language_info": {
   "codemirror_mode": {
    "name": "ipython",
    "version": 3
   },
   "file_extension": ".py",
   "mimetype": "text/x-python",
   "name": "python",
   "nbconvert_exporter": "python",
   "pygments_lexer": "ipython3",
   "version": "3.7.4"
  }
 },
 "nbformat": 4,
 "nbformat_minor": 2
}
