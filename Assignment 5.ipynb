{
 "cells": [
  {
   "cell_type": "code",
   "execution_count": 22,
   "metadata": {},
   "outputs": [
    {
     "name": "stdout",
     "output_type": "stream",
     "text": [
      " Enter the Number for which factorial value to be determined : 6\n",
      "Factorial value for the  6  is:  720\n",
      "720\n"
     ]
    }
   ],
   "source": [
    "def factorial(Number):\n",
    "    if Number == 1:\n",
    "        return Number\n",
    "    else:\n",
    "        return Number * factorial(Number - 1)\n",
    "    \n",
    "Number = int(input(\" Enter the Number for which factorial value to be determined : \"))\n",
    "if Number < 0:\n",
    "    print( \" ! ! ! ! ! Factorial value cannot be intended for negative integers ! ! ! ! !\" )\n",
    "elif Number == 0:\n",
    "    print( \" ! ! ! ! 1 is the factorial value 0 ! ! ! ! \" )\n",
    "else:\n",
    "    print(\"Factorial value for the \", Number , \" is: \" , factorial(Number))\n",
    "\n",
    "print(factorial(Number))"
   ]
  },
  {
   "cell_type": "code",
   "execution_count": 23,
   "metadata": {},
   "outputs": [
    {
     "name": "stdout",
     "output_type": "stream",
     "text": [
      "Input text to Calculate no of uppercase and lowecase letter\tAhsan ARAIN\n",
      "Number of Upper case letters  6\n",
      "Number of Lower case letters  4\n",
      "None\n"
     ]
    }
   ],
   "source": [
    "def check(text):\n",
    "    up = 0 \n",
    "    low = 0\n",
    "    for i in text:\n",
    "        if i.isupper():\n",
    "           up += 1\n",
    "        elif i.islower():\n",
    "           low += 1\n",
    "\n",
    "    print (\"Number of Upper case letters \", up)\n",
    "    print (\"Number of Lower case letters \", low)\n",
    "\n",
    "text = input(\"Input text to Calculate no of uppercase and lowecase letter\\t\")\n",
    "\n",
    "print(check(text))"
   ]
  },
  {
   "cell_type": "code",
   "execution_count": 24,
   "metadata": {},
   "outputs": [
    {
     "name": "stdout",
     "output_type": "stream",
     "text": [
      "2\n",
      "4\n",
      "6\n",
      "8\n",
      "10\n",
      "None\n"
     ]
    }
   ],
   "source": [
    "def chk(lst):\n",
    "    for i in lst:\n",
    "        if i % 2 == 0:\n",
    "            print(i)\n",
    "            \n",
    "lst = [2,3,4,5,6,7,8,9,10,15]\n",
    "print(chk(lst))"
   ]
  },
  {
   "cell_type": "code",
   "execution_count": 30,
   "metadata": {},
   "outputs": [
    {
     "name": "stdout",
     "output_type": "stream",
     "text": [
      "Palindrome\n"
     ]
    }
   ],
   "source": [
    "def rev(txt):\n",
    "    return txt[::-1]\n",
    "\n",
    "def palchk(txt):\n",
    "     r = rev(txt)\n",
    "     \n",
    "     if(r == txt):\n",
    "            return \"Palindrome\"\n",
    "     else:\n",
    "            return \"Not Palindrome\"\n",
    "    \n",
    "print(palchk(\"MADAM\"))"
   ]
  },
  {
   "cell_type": "code",
   "execution_count": 31,
   "metadata": {},
   "outputs": [
    {
     "name": "stdout",
     "output_type": "stream",
     "text": [
      "Input number to check if the number is prime or not\t7\n",
      "Prime\n"
     ]
    }
   ],
   "source": [
    "def chk(n):\n",
    "    if (n==1):\n",
    "        return \"Not Prime\"\n",
    "    elif (n==2):\n",
    "        return \"Prime\";\n",
    "    else:\n",
    "        for x in range(2,n):\n",
    "            if(n % x==0):\n",
    "                return \"Not Prime\"\n",
    "        return \"Prime\" \n",
    "n = int(input(\"Input number to check if the number is prime or not\\t\"))\n",
    "print(chk(n))"
   ]
  },
  {
   "cell_type": "code",
   "execution_count": 32,
   "metadata": {},
   "outputs": [
    {
     "name": "stdout",
     "output_type": "stream",
     "text": [
      "soft drink\n",
      "milk\n",
      "mineral water\n",
      "Candy\n"
     ]
    }
   ],
   "source": [
    "def shoplist(*items):\n",
    "    for i in items:\n",
    "        print(i)\n",
    "shoplist(\"soft drink\", \"milk\", \"mineral water\", \"Candy\")"
   ]
  },
  {
   "cell_type": "code",
   "execution_count": null,
   "metadata": {},
   "outputs": [],
   "source": []
  }
 ],
 "metadata": {
  "kernelspec": {
   "display_name": "Python 3",
   "language": "python",
   "name": "python3"
  },
  "language_info": {
   "codemirror_mode": {
    "name": "ipython",
    "version": 3
   },
   "file_extension": ".py",
   "mimetype": "text/x-python",
   "name": "python",
   "nbconvert_exporter": "python",
   "pygments_lexer": "ipython3",
   "version": "3.7.4"
  }
 },
 "nbformat": 4,
 "nbformat_minor": 2
}
