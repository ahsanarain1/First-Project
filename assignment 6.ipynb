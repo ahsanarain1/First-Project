{
 "cells": [
  {
   "cell_type": "markdown",
   "metadata": {},
   "source": [
    "Question 1: Define Object Oriented Programming Language?\n",
    "\n",
    "Answer: Python Support Multiple Programming aproach and one of them is OOP(Object oriented Programming) in which we use object to represent real world entities to easily solve programming problems.\n",
    "\n",
    "Question 2: List down the Benefits of OOP?\n",
    "\n",
    "Answer: OOP has many benefits among few of them are following:\n",
    "\n",
    "Reusability of code Reusability of Object throughout application Easy to maintain and update Modular structure to get rid of large scale changes Easy to understand OOP Enforce rules to increase productivity etc\n",
    "\n",
    "Question 3: Differentiate between function and method?\n",
    "\n",
    "Answer: Difference between functions and methods are as follows:\n",
    "\n",
    "Functions can be defined outside of class while Method cannot be defined outside of class Functions were also a part of structured programming while Method are part of OOP Function return something while method doesn't\n",
    "\n",
    "Question 4: Define Class, Object, attribute and behavior\n",
    "\n",
    "Object: An object hold data and functions which operate on that holding data.\n",
    "\n",
    "Class: Class is an special kind of object and in most commonly consider as blueprint which can be used as template to create instance of itself.\n",
    "\n",
    "Attribute: Attribute store information about instance. \n",
    "\n",
    "Behavior: Behavior determine operation of instance."
   ]
  },
  {
   "cell_type": "code",
   "execution_count": 3,
   "metadata": {},
   "outputs": [
    {
     "name": "stdout",
     "output_type": "stream",
     "text": [
      "Car Model: \t GLi\n",
      "Car name: \t Corolla\n",
      "Car Color: \t Red\n",
      "Car Made: \t 2014\n",
      "Car Type: \t concept car \n",
      "\n",
      "Voice Control activated\n",
      "Engine started voice\n",
      "Engine stopped voice\n"
     ]
    }
   ],
   "source": [
    "class car:\n",
    "    model = \"GLi\"\n",
    "    name = \"Corolla\"\n",
    "    color = \"Red\"\n",
    "    made = \"2014\"\n",
    "    typ = \"concept car\"\n",
    "    \n",
    "    def vcontrol(voice):\n",
    "        print(\"Voice Control activated\")\n",
    "    def start(voice):\n",
    "        print(\"Engine started voice\")\n",
    "    def stop(voice):\n",
    "        print(\"Engine stopped voice\")\n",
    "        \n",
    "\n",
    "car_m = car()\n",
    "car_n = car()\n",
    "car_c = car()\n",
    "car_md = car()\n",
    "car_t = car()\n",
    "\n",
    "\n",
    "car_a = car()\n",
    "\n",
    "print(\"Car Model: \\t\",car_m.model)\n",
    "print(\"Car name: \\t\",car_n.name)\n",
    "print(\"Car Color: \\t\",car_c.color)\n",
    "print(\"Car Made: \\t\",car_md.made)\n",
    "print(\"Car Type: \\t\",car_t.typ,\"\\n\")\n",
    "\n",
    "car_a.vcontrol()\n",
    "car_a.start()\n",
    "car_a.stop()\n"
   ]
  },
  {
   "cell_type": "code",
   "execution_count": null,
   "metadata": {},
   "outputs": [],
   "source": []
  }
 ],
 "metadata": {
  "kernelspec": {
   "display_name": "Python 3",
   "language": "python",
   "name": "python3"
  },
  "language_info": {
   "codemirror_mode": {
    "name": "ipython",
    "version": 3
   },
   "file_extension": ".py",
   "mimetype": "text/x-python",
   "name": "python",
   "nbconvert_exporter": "python",
   "pygments_lexer": "ipython3",
   "version": "3.7.4"
  }
 },
 "nbformat": 4,
 "nbformat_minor": 2
}
