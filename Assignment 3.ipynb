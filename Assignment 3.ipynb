{
 "cells": [
  {
   "cell_type": "code",
   "execution_count": 2,
   "metadata": {},
   "outputs": [
    {
     "name": "stdout",
     "output_type": "stream",
     "text": [
      "********** Calculator **********\n",
      "Select an operation to perform :\n",
      "Press 1 for Addition \n",
      "Press 2 for Subtraction \n",
      "Press 3 for Multiplication \n",
      "Press 4 for Division \n",
      "Press 5 for Multiplying a value to its Power \n",
      "Enter Operation Code 4\n",
      "Enter First Value : 4\n",
      "Enter Second Value : 0\n",
      "\n",
      "You can not divide by 0\n",
      "\n",
      "Do you want to perform another calculation? n\n",
      "\n",
      "Thank you for using our calculator\n"
     ]
    }
   ],
   "source": [
    "def cal():\n",
    "    print(\"********** Calculator **********\")\n",
    "\n",
    "    print(\"Select an operation to perform :\")\n",
    "    print(\"Press 1 for Addition \\nPress 2 for Subtraction \\nPress 3 for Multiplication \\nPress 4 for Division \\nPress \"\n",
    "          \"5 for Multiplying a value to its Power \")\n",
    "    op = int(input(\"Enter Operation Code \"))\n",
    "\n",
    "    num1 = int(input(\"Enter First Value : \"))\n",
    "    num2 = int(input(\"Enter Second Value : \"))\n",
    "\n",
    "    if op == 1:\n",
    "        print(\"\\n\" + str(num1) + \" plus \" + str(num2) + \" is equal to \" + str(num1 + num2))\n",
    "        confirmation()\n",
    "    elif op == 2:\n",
    "        print(\"\\n\" + str(num1) + \" minus \" + str(num2) + \" is equal to \" + str(num1 - num2))\n",
    "        confirmation()\n",
    "    elif op == 3:\n",
    "        print(\"\\n\" + str(num1) + \" multiplied by \" + str(num2) + \" is equal to \" + str(num1 * num2))\n",
    "        confirmation()\n",
    "    elif op == 4 and num2 == 0:\n",
    "        print(\"\\nYou can not divide by 0\")\n",
    "        confirmation()\n",
    "    elif op == 4 and num2 != 0:\n",
    "        print(\"\\n\" + str(num1) + \" divided by \" + str(num2) + \" is equal to \" + str(num1 / num2))\n",
    "        confirmation()\n",
    "    elif op == 5:\n",
    "        print(\"\\n\" + str(num1) + \" to the power of \" + str(num2) + \" is equal to \" + str(num1 ** num2))\n",
    "        confirmation()\n",
    "    else:\n",
    "        print(\"\\nNo operation exist with this number\")\n",
    "        confirmation()\n",
    "\n",
    "\n",
    "def confirmation():\n",
    "    i = input(\"\\nDo you want to perform another calculation? \")\n",
    "    if i == \"Y\" or i == \"y\":\n",
    "        cal()\n",
    "    elif i == \"N\" or i == \"n\":\n",
    "        print(\"\\nThank you for using our calculator\")\n",
    "    else:\n",
    "        print(\"\\nInvalid selection please press Y to continue or N to exit the program\")\n",
    "        confirmation()\n",
    "\n",
    "\n",
    "cal()\n"
   ]
  },
  {
   "cell_type": "code",
   "execution_count": 6,
   "metadata": {},
   "outputs": [
    {
     "name": "stdout",
     "output_type": "stream",
     "text": [
      "It has a numeric value of  9\n",
      "It has a numeric value of  4\n",
      "It has a numeric value of  1\n"
     ]
    }
   ],
   "source": [
    "list = ['ahsan','9','python','4','jupyter','1']\n",
    "for i in list:\n",
    "    if i.isdigit():\n",
    "        print(\"It has a numeric value of \",i)\n",
    "    "
   ]
  },
  {
   "cell_type": "code",
   "execution_count": 7,
   "metadata": {},
   "outputs": [
    {
     "name": "stdout",
     "output_type": "stream",
     "text": [
      "Input key\tFather name\n",
      "Input Value\tNiaz\n",
      "{'Name': 'Ahsan', 'Education': 'Under Graduate', 'Father name': 'Niaz'}\n"
     ]
    }
   ],
   "source": [
    "a = {\n",
    "    \"Name\" : \"Ahsan\",\n",
    "    \"Education\" : \"Under Graduate\"\n",
    "}\n",
    "\n",
    "key =input(\"Input key\\t\")\n",
    "val = input(\"Input Value\\t\")\n",
    "\n",
    "a.update({key:val})\n",
    "\n",
    "print(a)"
   ]
  },
  {
   "cell_type": "code",
   "execution_count": 11,
   "metadata": {},
   "outputs": [
    {
     "name": "stdout",
     "output_type": "stream",
     "text": [
      "101\n"
     ]
    }
   ],
   "source": [
    "dictionary={\n",
    "    \"1\": 45, \n",
    "    \"2\": 5,\n",
    "    \"3\": 51\n",
    "}\n",
    "\n",
    "print(sum(dictionary.values()))"
   ]
  },
  {
   "cell_type": "code",
   "execution_count": 12,
   "metadata": {},
   "outputs": [
    {
     "name": "stdout",
     "output_type": "stream",
     "text": [
      "[1, 3, 5, 8, 12, 11]\n"
     ]
    }
   ],
   "source": [
    "list = [ 1,1,1,3,3,5,5,8,2,5,8,9,6,4,7,5,3,12,12,11,11]\n",
    "dup = []\n",
    "uniq = {}\n",
    "for x in list:\n",
    "   if x not in uniq:\n",
    "      uniq[x] = 1\n",
    "   else:\n",
    "      if uniq[x] == 1:\n",
    "         dup.append(x)\n",
    "      uniq[x] += 1\n",
    "print(dup)"
   ]
  },
  {
   "cell_type": "code",
   "execution_count": 15,
   "metadata": {},
   "outputs": [
    {
     "name": "stdout",
     "output_type": "stream",
     "text": [
      "Input Key to check\taa\n",
      "This key does not exist\n"
     ]
    }
   ],
   "source": [
    "a={\n",
    "    \"a\": 3, \n",
    "    \"b\": 4,\n",
    "    \"c\": 5\n",
    "}\n",
    "x = input(\"Input Key to check\\t\")\n",
    "if x in a:\n",
    "    print(\"This Key already exist in dictionary\")\n",
    "else:\n",
    "    print(\"This key does not exist\")"
   ]
  },
  {
   "cell_type": "code",
   "execution_count": null,
   "metadata": {},
   "outputs": [],
   "source": []
  },
  {
   "cell_type": "code",
   "execution_count": null,
   "metadata": {},
   "outputs": [],
   "source": []
  }
 ],
 "metadata": {
  "kernelspec": {
   "display_name": "Python 3",
   "language": "python",
   "name": "python3"
  },
  "language_info": {
   "codemirror_mode": {
    "name": "ipython",
    "version": 3
   },
   "file_extension": ".py",
   "mimetype": "text/x-python",
   "name": "python",
   "nbconvert_exporter": "python",
   "pygments_lexer": "ipython3",
   "version": "3.7.4"
  }
 },
 "nbformat": 4,
 "nbformat_minor": 2
}
